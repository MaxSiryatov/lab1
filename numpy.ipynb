{
  "cells": [
    {
      "cell_type": "markdown",
      "metadata": {
        "id": "vC84e9kzyxPy"
      },
      "source": [
        "<h1>Импорт библиотек"
      ]
    },
    {
      "cell_type": "code",
      "execution_count": 2,
      "metadata": {
        "id": "cgKeNegmQG5S"
      },
      "outputs": [
        {
          "name": "stdout",
          "output_type": "stream",
          "text": [
            "Requirement already satisfied: numpy in c:\\users\\userok\\appdata\\local\\programs\\python\\python312\\lib\\site-packages (2.0.0)\n",
            "Note: you may need to restart the kernel to use updated packages.\n"
          ]
        },
        {
          "name": "stderr",
          "output_type": "stream",
          "text": [
            "\n",
            "[notice] A new release of pip is available: 24.0 -> 25.0.1\n",
            "[notice] To update, run: python.exe -m pip install --upgrade pip\n"
          ]
        },
        {
          "name": "stdout",
          "output_type": "stream",
          "text": [
            "Requirement already satisfied: matplotlib in c:\\users\\userok\\appdata\\local\\programs\\python\\python312\\lib\\site-packages (3.10.1)\n",
            "Requirement already satisfied: contourpy>=1.0.1 in c:\\users\\userok\\appdata\\local\\programs\\python\\python312\\lib\\site-packages (from matplotlib) (1.3.1)\n",
            "Requirement already satisfied: cycler>=0.10 in c:\\users\\userok\\appdata\\local\\programs\\python\\python312\\lib\\site-packages (from matplotlib) (0.12.1)\n",
            "Requirement already satisfied: fonttools>=4.22.0 in c:\\users\\userok\\appdata\\local\\programs\\python\\python312\\lib\\site-packages (from matplotlib) (4.57.0)\n",
            "Requirement already satisfied: kiwisolver>=1.3.1 in c:\\users\\userok\\appdata\\local\\programs\\python\\python312\\lib\\site-packages (from matplotlib) (1.4.8)\n",
            "Requirement already satisfied: numpy>=1.23 in c:\\users\\userok\\appdata\\local\\programs\\python\\python312\\lib\\site-packages (from matplotlib) (2.0.0)\n",
            "Requirement already satisfied: packaging>=20.0 in c:\\users\\userok\\appdata\\roaming\\python\\python312\\site-packages (from matplotlib) (24.2)\n",
            "Requirement already satisfied: pillow>=8 in c:\\users\\userok\\appdata\\local\\programs\\python\\python312\\lib\\site-packages (from matplotlib) (11.1.0)\n",
            "Requirement already satisfied: pyparsing>=2.3.1 in c:\\users\\userok\\appdata\\local\\programs\\python\\python312\\lib\\site-packages (from matplotlib) (3.2.3)\n",
            "Requirement already satisfied: python-dateutil>=2.7 in c:\\users\\userok\\appdata\\local\\programs\\python\\python312\\lib\\site-packages (from matplotlib) (2.9.0.post0)\n",
            "Requirement already satisfied: six>=1.5 in c:\\users\\userok\\appdata\\local\\programs\\python\\python312\\lib\\site-packages (from python-dateutil>=2.7->matplotlib) (1.17.0)\n",
            "Note: you may need to restart the kernel to use updated packages.\n"
          ]
        },
        {
          "name": "stderr",
          "output_type": "stream",
          "text": [
            "\n",
            "[notice] A new release of pip is available: 24.0 -> 25.0.1\n",
            "[notice] To update, run: python.exe -m pip install --upgrade pip\n"
          ]
        }
      ],
      "source": [
        "%pip install numpy\n",
        "%pip install matplotlib\n",
        "\n",
        "import numpy as np\n",
        "import matplotlib.pyplot as plt"
      ]
    },
    {
      "cell_type": "markdown",
      "metadata": {
        "id": "qFM9uVU2x4Ls"
      },
      "source": [
        "<h1>Задача 1. Дан набор из $p$ матриц размерностью $(n, n)$ и $p$ векторов размерностью $(n, 1)$, найти сумму произведений матриц на векторы. Написать тесты для кода"
      ]
    },
    {
      "cell_type": "code",
      "execution_count": 3,
      "metadata": {
        "id": "IAbUvEiYyWFF"
      },
      "outputs": [
        {
          "name": "stdout",
          "output_type": "stream",
          "text": [
            "Все тесты пройдены\n"
          ]
        }
      ],
      "source": [
        "def sum_prod(X, V):\n",
        "    return sum(np.dot(matrix, vector) for matrix, vector in zip(X, V))\n",
        "\n",
        "def test_sum_prod():\n",
        "    X = [np.array([[1, 2], [3, 4]]), np.array([[5, 6], [7, 8]])]\n",
        "    V = [np.array([1, 2]), np.array([3, 4])]\n",
        "    result = sum_prod(X, V)\n",
        "    expected = np.array([5, 11]) + np.array([39, 53])\n",
        "    assert np.array_equal(result, expected)\n",
        "    print(\"Все тесты пройдены\")\n",
        "\n",
        "test_sum_prod()"
      ]
    },
    {
      "cell_type": "markdown",
      "metadata": {
        "id": "TKwPG4fIy2w4"
      },
      "source": [
        "<h1>Задача 2. Дана матрица M, напишите функцию, которая бинаризует матрицу по некоторому threshold (то есть, все значения большие threshold становятся равными 1, иначе 0). Напишите тесты для кода"
      ]
    },
    {
      "cell_type": "code",
      "execution_count": 4,
      "metadata": {
        "id": "KQDNMgsjRNH7"
      },
      "outputs": [
        {
          "name": "stdout",
          "output_type": "stream",
          "text": [
            "Все тесты пройдены\n"
          ]
        }
      ],
      "source": [
        "def binarize(M, threshold=0.5):\n",
        "    return (M > threshold).astype(int)\n",
        "\n",
        "def test_binarize():\n",
        "    M = np.array([[0.4, 0.6], [0.1, 0.9]])\n",
        "    assert np.array_equal(binarize(M), np.array([[0, 1], [0, 1]]))\n",
        "    assert np.array_equal(binarize(M, 0.7), np.array([[0, 0], [0, 1]]))\n",
        "    print(\"Все тесты пройдены\")\n",
        "\n",
        "test_binarize()"
      ]
    },
    {
      "cell_type": "markdown",
      "metadata": {
        "id": "IY5L-h-7zWhN"
      },
      "source": [
        "<h1>Задача 3. Напишите функцию, которая возвращает уникальные элементы из каждой строки матрицы. Напишите такую же функцию, но для столбцов. Напишите тесты для кода"
      ]
    },
    {
      "cell_type": "code",
      "execution_count": 32,
      "metadata": {
        "id": "-8dEZhR0SBC-"
      },
      "outputs": [
        {
          "name": "stdout",
          "output_type": "stream",
          "text": [
            "Все тесты пройдены\n"
          ]
        }
      ],
      "source": [
        "def unique_rows(mat):\n",
        "    return [np.unique(row) for row in mat]\n",
        "\n",
        "def unique_columns(mat):\n",
        "    return [np.unique(col) for col in mat.T]\n",
        "\n",
        "def test_unique():\n",
        "    mat = np.array([[1, 2, 1], [4, 4, 4], [1, 2, 3]])\n",
        "    assert [list(u) for u in unique_rows(mat)] == [[1, 2], [4], [1, 2, 3]]\n",
        "    assert [list(u) for u in unique_columns(mat)] == [[1, 4], [2, 4], [1, 3, 4]]\n",
        "    print(\"Все тесты пройдены\")\n",
        "\n",
        "test_unique()"
      ]
    },
    {
      "cell_type": "markdown",
      "metadata": {
        "id": "roYAlo4Jz-lH"
      },
      "source": [
        "<h1>Задача 4. Напишите функцию, которая заполняет матрицу с размерами $(m, n)$ случайными числами, распределенными по нормальному закону. Затем считает мат. ожидание и дисперсию для каждого из столбцов и строк, а также строит для каждой строки и столбца гистограмму значений (использовать функцию hist из модуля matplotlib.plot)"
      ]
    },
    {
      "cell_type": "code",
      "execution_count": 5,
      "metadata": {
        "id": "nZK_71hMSQzv"
      },
      "outputs": [
        {
          "name": "stderr",
          "output_type": "stream",
          "text": [
            "C:\\Users\\Userok\\AppData\\Local\\Temp\\ipykernel_2436\\2658626675.py:20: UserWarning: tight_layout not applied: number of columns in subplot specifications must be multiples of one another.\n",
            "  plt.tight_layout()\n"
          ]
        },
        {
          "data": {
            "image/png": "[encoded data removed]",
            "text/plain": [
              "<Figure size 1200x600 with 7 Axes>"
            ]
          },
          "metadata": {},
          "output_type": "display_data"
        },
        {
          "data": {
            "text/plain": [
              "(array([ 0.18800347,  0.16365085, -0.3380123 ]),\n",
              " array([0.64457542, 0.46491761, 0.23657654]),\n",
              " array([-0.66658431,  0.39399852,  0.129807  ,  0.16096814]),\n",
              " array([0.17346601, 0.13423298, 0.36786876, 0.71203391]))"
            ]
          },
          "execution_count": 5,
          "metadata": {},
          "output_type": "execute_result"
        }
      ],
      "source": [
        "def analyze_matrix(m, n):\n",
        "    mat = np.random.normal(0, 1, (m, n))\n",
        "    \n",
        "    row_means = np.mean(mat, axis=1)\n",
        "    row_vars = np.var(mat, axis=1)\n",
        "    col_means = np.mean(mat, axis=0)\n",
        "    col_vars = np.var(mat, axis=0)\n",
        "    \n",
        "    plt.figure(figsize=(12, 6))\n",
        "    for i in range(m):\n",
        "        plt.subplot(2, m, i+1)\n",
        "        plt.hist(mat[i, :], bins=20)\n",
        "        plt.title(f\"Row {i+1}\")\n",
        "    \n",
        "    for j in range(n):\n",
        "        plt.subplot(2, n, m+j+1)\n",
        "        plt.hist(mat[:, j], bins=20)\n",
        "        plt.title(f\"Col {j+1}\")\n",
        "    \n",
        "    plt.tight_layout()\n",
        "    plt.show()\n",
        "    \n",
        "    return row_means, row_vars, col_means, col_vars\n",
        "\n",
        "analyze_matrix(3, 4)"
      ]
    },
    {
      "cell_type": "markdown",
      "metadata": {
        "id": "BDyATNdM0dJ2"
      },
      "source": [
        "<h1>Задача 5. Напишите функцию, которая заполняет матрицу $(m, n)$ в шахматном порядке заданными числами $a$ и $b$. Напишите тесты для кода"
      ]
    },
    {
      "cell_type": "code",
      "execution_count": 31,
      "metadata": {
        "id": "RWNJYWQGecS6"
      },
      "outputs": [
        {
          "name": "stdout",
          "output_type": "stream",
          "text": [
            "Все тесты пройдены\n"
          ]
        }
      ],
      "source": [
        "def chess(m, n, a, b):\n",
        "    board = np.zeros((m, n))\n",
        "    board[::2, ::2] = a\n",
        "    board[1::2, ::2] = b\n",
        "    board[::2, 1::2] = b\n",
        "    board[1::2, 1::2] = a\n",
        "    return board\n",
        "\n",
        "def test_chess():\n",
        "    assert np.array_equal(chess(2, 2, 1, 0), np.array([[1, 0], [0, 1]]))\n",
        "    assert np.array_equal(chess(3, 3, 5, 10), \n",
        "           np.array([[5, 10, 5], [10, 5, 10], [5, 10, 5]]))\n",
        "    print(\"Все тесты пройдены\")\n",
        "\n",
        "test_chess()"
      ]
    },
    {
      "cell_type": "markdown",
      "metadata": {
        "id": "-ymXLtTN0vB6"
      },
      "source": [
        "<h1>Задача 6. Напишите функцию, которая отрисовывает прямоугольник с заданными размерами (a, b) на изображении размера (m, n), цвет фона задайте в схеме RGB, как и цвет прямоугольника. Цвета также должны быть параметрами функции. Напишите аналогичную функцию но для овала с полуосями a и b. Напишите тесты для кода.\n",
        "Примечание: уравнение эллипса (границы овала) можно записать как:\n",
        "<h1>$\\frac{(x-x_0)^2}{a^2}+\\frac{(y-y_0)^2}{b^2}=1$"
      ]
    },
    {
      "cell_type": "code",
      "execution_count": 29,
      "metadata": {
        "id": "sNfl1t_kfOF4"
      },
      "outputs": [
        {
          "data": {
            "image/png": "[encoded data removed]",
            "text/plain": [
              "<Figure size 640x480 with 1 Axes>"
            ]
          },
          "metadata": {},
          "output_type": "display_data"
        },
        {
          "data": {
            "image/png": "[encoded data removed]",
            "text/plain": [
              "<Figure size 640x480 with 1 Axes>"
            ]
          },
          "metadata": {},
          "output_type": "display_data"
        }
      ],
      "source": [
        "def draw_rectangle(a, b, m, n, rectangle_color, background_color):\n",
        "    image = np.full((m, n, 3), background_color)\n",
        "    start_i, start_j = (m - a) // 2, (n - b) // 2\n",
        "    image[start_i:start_i+a, start_j:start_j+b] = rectangle_color\n",
        "    plt.imshow(image)\n",
        "    plt.axis('off')\n",
        "    plt.show()\n",
        "\n",
        "def draw_ellipse(a, b, m, n, ellipse_color, background_color):\n",
        "    image = np.full((m, n, 3), background_color)\n",
        "    center_i, center_j = m // 2, n // 2\n",
        "    \n",
        "    for i in range(m):\n",
        "        for j in range(n):\n",
        "            if ((i - center_i)/a)**2 + ((j - center_j)/b)**2 <= 1:\n",
        "                image[i, j] = ellipse_color\n",
        "    \n",
        "    plt.imshow(image)\n",
        "    plt.axis('off')\n",
        "    plt.show()\n",
        "\n",
        "draw_rectangle(50, 100, 200, 300, [255, 0, 0], [0, 0, 0])\n",
        "draw_ellipse(50, 100, 200, 300, [0, 255, 0], [0, 0, 0])"
      ]
    },
    {
      "cell_type": "markdown",
      "metadata": {
        "id": "S82c38oz244H"
      },
      "source": [
        "<h1>Задача 7. Дан некий временной ряд. Для данного ряда нужно найти его: математическое ожидание, дисперсию, СКО, найти все локальные максимумы и минимумы (локальный максимум - это точка, которая больше своих соседних точек, а локальный минимум - это точка, которая меньше своих соседей), а также вычислить для данного ряда другой ряд, получаемый методом скользящего среднего с размером окна $p$.\n",
        "<h1>Примечание: метод скользящего среднего подразумевает нахождение среднего из подмножетсва ряда размером $p$"
      ]
    },
    {
      "cell_type": "code",
      "execution_count": 24,
      "metadata": {
        "id": "Zb9mIVge5MMt"
      },
      "outputs": [],
      "source": [
        "def analyze_time_series(series, window_size=3):\n",
        "    mean = np.mean(series)\n",
        "    variance = np.var(series)\n",
        "    std = np.std(series)\n",
        "    \n",
        "    maxima = []\n",
        "    minima = []\n",
        "    for i in range(1, len(series)-1):\n",
        "        if series[i] > series[i-1] and series[i] > series[i+1]:\n",
        "            maxima.append(i)\n",
        "        elif series[i] < series[i-1] and series[i] < series[i+1]:\n",
        "            minima.append(i)\n",
        "    \n",
        "    moving_avg = np.convolve(series, np.ones(window_size)/window_size, mode='valid')\n",
        "    \n",
        "    return {\n",
        "        'mean': mean,\n",
        "        'variance': variance,\n",
        "        'std': std,\n",
        "        'maxima': maxima,\n",
        "        'minima': minima,\n",
        "        'moving_avg': moving_avg\n",
        "    }"
      ]
    },
    {
      "cell_type": "markdown",
      "metadata": {
        "id": "jPkylmOX5O9n"
      },
      "source": [
        "<h1> Задача 8. Дан некоторый вектор с целочисленными метками классов, напишите функцию, которая выполняет one-hot-encoding для данного вектора\n",
        "<h1> One-hot-encoding - представление, в котором на месте метки некоторого класса стоит 1, в остальных позициях стоит 0. Например для вектора [0, 2, 3, 0] one-hot-encoding выглядит как: [[1, 0, 0, 0], [0, 0, 1, 0], [0, 0, 0, 1], [1, 0, 0, 0]]"
      ]
    },
    {
      "cell_type": "code",
      "execution_count": 30,
      "metadata": {
        "id": "Y-jlnZvw56lD"
      },
      "outputs": [
        {
          "name": "stdout",
          "output_type": "stream",
          "text": [
            "Все тесты пройдены\n"
          ]
        }
      ],
      "source": [
        "def one_hot_encoding(labels):\n",
        "    classes = np.unique(labels)\n",
        "    encoding = np.zeros((len(labels), len(classes)))\n",
        "    for i, label in enumerate(labels):\n",
        "        encoding[i, np.where(classes == label)] = 1\n",
        "    return encoding\n",
        "\n",
        "def test_one_hot():\n",
        "    labels = np.array([0, 2, 3, 0])\n",
        "    expected = np.array([[1, 0, 0], [0, 1, 0], [0, 0, 1], [1, 0, 0]])\n",
        "    assert np.array_equal(one_hot_encoding(labels), expected)\n",
        "    print(\"Все тесты пройдены\")\n",
        "\n",
        "test_one_hot()"
      ]
    }
  ],
  "metadata": {
    "colab": {
      "provenance": []
    },
    "kernelspec": {
      "display_name": "Python 3",
      "name": "python3"
    },
    "language_info": {
      "codemirror_mode": {
        "name": "ipython",
        "version": 3
      },
      "file_extension": ".py",
      "mimetype": "text/x-python",
      "name": "python",
      "nbconvert_exporter": "python",
      "pygments_lexer": "ipython3",
      "version": "3.12.2"
    }
  },
  "nbformat": 4,
  "nbformat_minor": 0
}
