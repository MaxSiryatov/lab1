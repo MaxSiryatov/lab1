{
  "cells": [
    {
      "cell_type": "markdown",
      "metadata": {
        "id": "M-DGa20PaHnu"
      },
      "source": [
        "#Задача 1\n",
        "Написать функцию на вход которой подается строка, состоящая из латинских букв.\n",
        "Функция должна вернуть количество гласных букв (a, e, i, o, u) в этой строке. Написать тесты для кода"
      ]
    },
    {
      "cell_type": "code",
      "execution_count": 3,
      "metadata": {
        "id": "XvX8X_JJ6PCb"
      },
      "outputs": [
        {
          "name": "stdout",
          "output_type": "stream",
          "text": [
            "Все тесты пройдены\n"
          ]
        }
      ],
      "source": [
        "def count_vowels(s):\n",
        "    vowels = {'a', 'e', 'i', 'o', 'u'}\n",
        "    count = 0\n",
        "    for i in s.lower():\n",
        "        if i in vowels:\n",
        "            count += 1\n",
        "    return count\n",
        "\n",
        "def test_count_vowels():\n",
        "    assert count_vowels(\"hello\") == 2\n",
        "    assert count_vowels(\"world\") == 1\n",
        "    assert count_vowels(\"kjasdhkjahsd\") == 2\n",
        "    assert count_vowels(\"Python\") == 1\n",
        "    assert count_vowels(\"\") == 0\n",
        "    assert count_vowels(\"xyz\") == 0\n",
        "    print(\"Все тесты пройдены\")\n",
        "\n",
        "test_count_vowels()"
      ]
    },
    {
      "cell_type": "markdown",
      "metadata": {
        "id": "t2ClV_Y0bbr6"
      },
      "source": [
        "# Задача 2\n",
        "Написать функцию на вход, которой подается строка. Функция должна вернуть true, если\n",
        "каждый символ в строке встречается только 1 раз, иначе должна вернуть false. Написать тесты для кода"
      ]
    },
    {
      "cell_type": "code",
      "execution_count": 5,
      "metadata": {
        "id": "FppbECao6VIz"
      },
      "outputs": [
        {
          "name": "stdout",
          "output_type": "stream",
          "text": [
            "Все тесты пройдены\n"
          ]
        }
      ],
      "source": [
        "def is_unique_chars(s):\n",
        "    return len(s) == len(set(s))\n",
        "\n",
        "def test_is_unique_chars():\n",
        "    assert is_unique_chars(\"abcde\") == True\n",
        "    assert is_unique_chars(\"hello\") == False\n",
        "    assert is_unique_chars(\"\") == True\n",
        "    assert is_unique_chars(\"aabb\") == False\n",
        "    assert is_unique_chars(\"12345\") == True\n",
        "    assert is_unique_chars(\"12341\") == False\n",
        "    print(\"Все тесты пройдены\")\n",
        "\n",
        "test_is_unique_chars()"
      ]
    },
    {
      "cell_type": "markdown",
      "metadata": {
        "id": "udRiIK1cdt6E"
      },
      "source": [
        "# Задача 3\n",
        "Написать функцию, которая принимает положительное число и возвращает количество\n",
        "бит равных 1 в этом числе. Написать тесты для кода"
      ]
    },
    {
      "cell_type": "code",
      "execution_count": 1,
      "metadata": {
        "id": "6tkfDJRz6dp_"
      },
      "outputs": [
        {
          "name": "stdout",
          "output_type": "stream",
          "text": [
            "Все тесты пройдены\n"
          ]
        }
      ],
      "source": [
        "def count_set_bits(n):\n",
        "    return bin(n).count('1')\n",
        "\n",
        "def test_count_set_bits():\n",
        "    assert count_set_bits(0) == 0\n",
        "    assert count_set_bits(1) == 1\n",
        "    assert count_set_bits(2) == 1\n",
        "    assert count_set_bits(3) == 2\n",
        "    assert count_set_bits(255) == 8\n",
        "    assert count_set_bits(1023) == 10\n",
        "    print(\"Все тесты пройдены\")\n",
        "\n",
        "test_count_set_bits()"
      ]
    },
    {
      "cell_type": "markdown",
      "metadata": {
        "id": "26dDUz-Ae17N"
      },
      "source": [
        "# Задача 4\n",
        "Написать функцию, которая принимает положительное число. Функция должна вернуть то,\n",
        "сколько раз необходимо перемножать цифры числа или результат перемножения, чтобы\n",
        "получилось число состоящее из одной цифры.\n",
        "Например, для входного числа:\n",
        "· 39 функция должна вернуть 3, так как 3*9=27 => 2*7=14 => 1*4=4\n",
        "· 4 функция должна вернуть 0, так как число уже состоит из одной цифры\n",
        "· 999 функция должна вернуть 4, так как 9*9*9=729 => 7*2*9=126 => 1*2*6=12 =>\n",
        "1*2=2. Написать тесты для кода"
      ]
    },
    {
      "cell_type": "code",
      "execution_count": 2,
      "metadata": {
        "id": "BH1A_Mgi6i4G"
      },
      "outputs": [
        {
          "name": "stdout",
          "output_type": "stream",
          "text": [
            "Все тесты пройдены\n"
          ]
        }
      ],
      "source": [
        "def magic(n):\n",
        "    if n < 10:\n",
        "        return 0\n",
        "    count = 0\n",
        "    while n >= 10:\n",
        "        product = 1\n",
        "        for digit in str(n):\n",
        "            product *= int(digit)\n",
        "        n = product\n",
        "        count += 1\n",
        "    return count\n",
        "\n",
        "def test_magic():\n",
        "    assert magic(39) == 3\n",
        "    assert magic(4) == 0\n",
        "    assert magic(999) == 4\n",
        "    assert magic(10) == 1\n",
        "    assert magic(123) == 1\n",
        "    assert magic(777) == 4\n",
        "    print(\"Все тесты пройдены\")\n",
        "\n",
        "test_magic()"
      ]
    },
    {
      "cell_type": "markdown",
      "metadata": {
        "id": "0nS-kIa8g8vd"
      },
      "source": [
        "# Задача 5\n",
        "Написать функцию, которая принимает два целочисленных вектора одинаковой длины и\n",
        "возвращает среднеквадратическое отклонение двух векторов. Написать тесты для кода"
      ]
    },
    {
      "cell_type": "code",
      "execution_count": 8,
      "metadata": {
        "id": "8iphx4LM6xbx"
      },
      "outputs": [
        {
          "name": "stdout",
          "output_type": "stream",
          "text": [
            "Все тесты пройдены\n"
          ]
        }
      ],
      "source": [
        "def mse(pred, true):\n",
        "    if len(pred) != len(true):\n",
        "        raise ValueError(\"Векторы должны быть одинаковой длины\")\n",
        "    squared_errors = [(p - t) ** 2 for p, t in zip(pred, true)]\n",
        "    return sum(squared_errors) / len(squared_errors)\n",
        "\n",
        "def test_mse():\n",
        "    assert mse([1, 2, 3], [1, 2, 3]) == 0.0\n",
        "    assert mse([1, 2, 3], [0, 0, 0]) == (1 + 4 + 9) / 3\n",
        "    assert mse([0, 0, 0], [1, 2, 3]) == (1 + 4 + 9) / 3\n",
        "    assert mse([1.5, 2.5], [1, 2]) == (0.25 + 0.25) / 2\n",
        "    try:\n",
        "        mse([1], [1, 2])\n",
        "        assert False\n",
        "    except ValueError:\n",
        "        pass\n",
        "    print(\"Все тесты пройдены\")\n",
        "\n",
        "test_mse()"
      ]
    },
    {
      "cell_type": "markdown",
      "metadata": {
        "id": "vpIPKL439zkw"
      },
      "source": [
        "# Задача 6\n",
        "Написать функцию, принимающая целое положительное число. Функция должна вернуть\n",
        "строку вида “(n1**p1)(n2**p2)…(nk**pk)” представляющая разложение числа на простые\n",
        "множители (если pi == 1, то выводить только ni).\n",
        "Например, для числа 86240 функция должна вернуть “(2**5)(5)(7**2)(11)”. Написать тесты для кода"
      ]
    },
    {
      "cell_type": "code",
      "execution_count": 11,
      "metadata": {
        "id": "pFebmcZk94Jw"
      },
      "outputs": [
        {
          "name": "stdout",
          "output_type": "stream",
          "text": [
            "Все тесты пройдены\n"
          ]
        }
      ],
      "source": [
        "def prime_factors(n):\n",
        "    factors = {}\n",
        "    divisor = 2\n",
        "    while n > 1:\n",
        "        while n % divisor == 0:\n",
        "            factors[divisor] = factors.get(divisor, 0) + 1\n",
        "            n = n // divisor\n",
        "        divisor += 1\n",
        "    result = []\n",
        "    for prime in sorted(factors):\n",
        "        power = factors[prime]\n",
        "        if power == 1:\n",
        "            result.append(f\"({prime})\")\n",
        "        else:\n",
        "            result.append(f\"({prime}**{power})\")\n",
        "    return \"\".join(result)\n",
        "\n",
        "def test_prime_factors():\n",
        "    assert prime_factors(86240) == \"(2**5)(5)(7**2)(11)\"\n",
        "    assert prime_factors(2) == \"(2)\"\n",
        "    assert prime_factors(13) == \"(13)\"\n",
        "    assert prime_factors(100) == \"(2**2)(5**2)\"\n",
        "    assert prime_factors(1) == \"\"\n",
        "    print(\"Все тесты пройдены\")\n",
        "\n",
        "test_prime_factors()"
      ]
    },
    {
      "cell_type": "markdown",
      "metadata": {
        "id": "ps2s0BudX7A2"
      },
      "source": [
        "# Задача 7\n",
        "Написать функцию, принимающая целое число n, задающее количество кубиков. Функция\n",
        "должна определить, можно ли из данного кол-ва кубиков построить пирамиду, то есть\n",
        "можно ли представить число n как 1^2+2^2+3^2+…+k^2. Если можно, то функция должна\n",
        "вернуть k, иначе строку “It is impossible”. Написать тесты для кода"
      ]
    },
    {
      "cell_type": "code",
      "execution_count": 10,
      "metadata": {
        "id": "3YPjEXxhX_YT"
      },
      "outputs": [
        {
          "name": "stdout",
          "output_type": "stream",
          "text": [
            "Все тесты пройдены\n"
          ]
        }
      ],
      "source": [
        "def pyramid(number):\n",
        "    k = 1\n",
        "    total = 0\n",
        "    while total < number:\n",
        "        total += k ** 2\n",
        "        if total == number:\n",
        "            return k\n",
        "        k += 1\n",
        "    return \"It is impossible\"\n",
        "\n",
        "def test_pyramid():\n",
        "    assert pyramid(1) == 1\n",
        "    assert pyramid(5) == 2\n",
        "    assert pyramid(14) == 3\n",
        "    assert pyramid(30) == 4\n",
        "    assert pyramid(55) == 5\n",
        "    assert pyramid(100) == \"It is impossible\"\n",
        "    assert pyramid(0) == \"It is impossible\"\n",
        "    print(\"Все тесты пройдены\")\n",
        "\n",
        "test_pyramid()"
      ]
    },
    {
      "cell_type": "markdown",
      "metadata": {
        "id": "KeKgmIdAQMEJ"
      },
      "source": [
        "# Задача 8\n",
        "Функция принимает на вход положительное число и определяет является ли оно сбалансированным, т.е. сумма цифр до средних равна сумме цифр после. Средними в случае нечетного числа цифр считать одну цифру, в случае четного - две средних. Написать тесты для кода"
      ]
    },
    {
      "cell_type": "code",
      "execution_count": 14,
      "metadata": {
        "id": "gMAAqtqlQrZt"
      },
      "outputs": [
        {
          "name": "stdout",
          "output_type": "stream",
          "text": [
            "Все тесты пройдены\n"
          ]
        }
      ],
      "source": [
        "def is_balanced(number):\n",
        "    s = str(number)\n",
        "    length = len(s)\n",
        "    if length == 1:\n",
        "        return True\n",
        "    if length % 2 == 1:\n",
        "        mid = length // 2\n",
        "        left = s[:mid]\n",
        "        right = s[mid+1:]\n",
        "    else:\n",
        "        mid = length // 2 - 1\n",
        "        left = s[:mid]\n",
        "        right = s[mid+2:]\n",
        "    return sum(int(d) for d in left) == sum(int(d) for d in right)\n",
        "\n",
        "def test_is_balanced():\n",
        "    assert is_balanced(12345) == False\n",
        "    assert is_balanced(123321) == True\n",
        "    assert is_balanced(121) == True\n",
        "    assert is_balanced(11) == True\n",
        "    assert is_balanced(1) == True\n",
        "    assert is_balanced(1234) == False\n",
        "    print(\"Все тесты пройдены\")\n",
        "\n",
        "test_is_balanced()"
      ]
    }
  ],
  "metadata": {
    "colab": {
      "provenance": []
    },
    "kernelspec": {
      "display_name": "Python 3",
      "name": "python3"
    },
    "language_info": {
      "codemirror_mode": {
        "name": "ipython",
        "version": 3
      },
      "file_extension": ".py",
      "mimetype": "text/x-python",
      "name": "python",
      "nbconvert_exporter": "python",
      "pygments_lexer": "ipython3",
      "version": "3.12.2"
    }
  },
  "nbformat": 4,
  "nbformat_minor": 0
}
